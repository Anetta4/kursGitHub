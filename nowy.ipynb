{
  "nbformat": 4,
  "nbformat_minor": 0,
  "metadata": {
    "colab": {
      "provenance": [],
      "mount_file_id": "1DfBnJwCSQrePFhw_g6IlGMvdpjYhQaUj",
      "authorship_tag": "ABX9TyNJIdHBC+lydEd57S0zSuXq"
    },
    "kernelspec": {
      "name": "python3",
      "display_name": "Python 3"
    },
    "language_info": {
      "name": "python"
    }
  },
  "cells": [
    {
      "cell_type": "code",
      "source": [
        "#@title Domyślny tekst tytułu\n",
        "wiek = 100 #@param {type:\"integer\"}\n",
        "hobby = \"taniec\" #@param [\"muzyka\", \"sport\", \"taniec\"]\n",
        "temperatura = 47 #@param {type:\"slider\", min:0, max:100, step:1}\n",
        "print(wiek)\n"
      ],
      "metadata": {
        "colab": {
          "base_uri": "https://localhost:8080/"
        },
        "id": "OeWRiFkpbGg0",
        "outputId": "8e898569-7145-4a21-b174-085f6cd28a62"
      },
      "execution_count": null,
      "outputs": [
        {
          "output_type": "stream",
          "name": "stdout",
          "text": [
            "100\n"
          ]
        }
      ]
    },
    {
      "cell_type": "code",
      "source": [
        "%%timeit\n",
        "def oblicz(a):\n",
        "  return [a**2 for _ in range(10)]\n",
        "  oblicz(5)"
      ],
      "metadata": {
        "colab": {
          "base_uri": "https://localhost:8080/"
        },
        "id": "Ac_dUmixjOD3",
        "outputId": "693fe3bb-4dd7-48fa-af24-9d64eac4581f"
      },
      "execution_count": null,
      "outputs": [
        {
          "output_type": "stream",
          "name": "stdout",
          "text": [
            "The slowest run took 10.76 times longer than the fastest. This could mean that an intermediate result is being cached.\n",
            "10000000 loops, best of 5: 94.1 ns per loop\n"
          ]
        }
      ]
    },
    {
      "cell_type": "code",
      "source": [
        "import pandas as pd\n",
        "from bokeh.sampledata.iris import flowers\n",
        "\n",
        "from bokeh.plotting import figure, show, output_file\n",
        "from bokeh.models import ColumnDataSource, HoverTool\n",
        "\n",
        "colormap = {'setosa': 'red', 'versicolor': 'green', 'virginica': 'blue'}\n",
        "flowers['colors'] = [colormap[x] for x in flowers['species']]\n",
        "\n",
        "hover = HoverTool(tooltips=[\n",
        "    (\"Sepal length\", \"@sepal_length\"),\n",
        "    (\"Sepal width\", \"@sepal_width\"),\n",
        "    (\"Petal length\", \"@petal_length\"),\n",
        "    (\"Species\", \"@species\")\n",
        "    ])\n",
        "\n",
        "p = figure(title = \"Iris Morphology\", plot_height=500, plot_width=500, tools=[hover, \"pan,reset,wheel_zoom\"])\n",
        "\n",
        "p.xaxis.axis_label = 'Petal Length'\n",
        "p.yaxis.axis_label = 'Petal Width'\n",
        "\n",
        "p.circle('petal_length', 'petal_width', color='colors', \n",
        "         fill_alpha=0.2, size=10, source=ColumnDataSource(flowers))\n",
        "\n",
        "output_file('flowers.html')\n",
        "\n",
        "show(p)"
      ],
      "metadata": {
        "id": "7jN-xJcPiiFA"
      },
      "execution_count": 1,
      "outputs": []
    },
    {
      "cell_type": "code",
      "source": [
        "show(p)"
      ],
      "metadata": {
        "id": "6Btb9Cpbiq9M"
      },
      "execution_count": 2,
      "outputs": []
    }
  ]
}